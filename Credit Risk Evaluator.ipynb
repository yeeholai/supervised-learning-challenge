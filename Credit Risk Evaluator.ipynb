{
 "cells": [
  {
   "cell_type": "code",
   "execution_count": 1,
   "metadata": {},
   "outputs": [],
   "source": [
    "import warnings\n",
    "warnings.simplefilter('ignore')\n",
    "import numpy as np\n",
    "import pandas as pd\n",
    "from pathlib import Path\n",
    "from sklearn.datasets import make_regression\n",
    "from sklearn.linear_model import LogisticRegression\n",
    "from sklearn.metrics import mean_squared_error, r2_score\n",
    "from sklearn.model_selection import train_test_split\n",
    "from sklearn.preprocessing import StandardScaler, MinMaxScaler, LabelEncoder\n",
    "from sklearn.impute import SimpleImputer\n",
    "from sklearn.ensemble import RandomForestClassifier"
   ]
  },
  {
   "cell_type": "markdown",
   "metadata": {},
   "source": [
    "# Prediction\n",
    "Because there are 94 categorical features to model for, I think the random forest model will be better than the logistical regression in both unscaled and scaled data.<br>\n",
    "This dataset is not linear, and logistical regression is better for modeling linear data.\n",
    "\n",
    "## Actual Results\n",
    "Overall the scores for both Random Forest and Logistic Regression were low. Logistic Regression had a better score overall.<br>\n",
    "Unscaled Data: Random Forest Model did better with a score of 0.6405784772437261.<br>\n",
    "Scaled Data: Logistic Regression Model did better with a score of 0.6703530412590387."
   ]
  },
  {
   "cell_type": "code",
   "execution_count": 2,
   "metadata": {},
   "outputs": [],
   "source": [
    "train_df = pd.read_csv(Path('Resources/2019loans.csv'))\n",
    "test_df = pd.read_csv(Path('Resources/2020Q1loans.csv'))"
   ]
  },
  {
   "cell_type": "code",
   "execution_count": 3,
   "metadata": {},
   "outputs": [],
   "source": [
    "# Convert categorical data to numeric and separate target feature for training data\n",
    "X_train = train_df.drop('loan_status', axis=1)\n",
    "X_dummies_train = pd.get_dummies(X_train)\n",
    "y_label_train = LabelEncoder().fit_transform(train_df[\"loan_status\"])"
   ]
  },
  {
   "cell_type": "code",
   "execution_count": 4,
   "metadata": {},
   "outputs": [],
   "source": [
    "# Convert categorical data to numeric and separate target feature for testing data\n",
    "X_test = test_df.drop('loan_status', axis=1)\n",
    "X_dummies_test = pd.get_dummies(X_test)\n",
    "y_label_test = LabelEncoder().fit_transform(test_df[\"loan_status\"])"
   ]
  },
  {
   "cell_type": "code",
   "execution_count": null,
   "metadata": {},
   "outputs": [],
   "source": [
    "# add missing dummy variables to testing set"
   ]
  },
  {
   "cell_type": "code",
   "execution_count": null,
   "metadata": {},
   "outputs": [],
   "source": [
    "X_dummies_test.shape"
   ]
  },
  {
   "cell_type": "code",
   "execution_count": null,
   "metadata": {},
   "outputs": [],
   "source": [
    "X_dummies_train.shape"
   ]
  },
  {
   "cell_type": "code",
   "execution_count": null,
   "metadata": {},
   "outputs": [],
   "source": [
    "# find the different columns between both dfs\n",
    "X_dummies_train.columns.difference(X_dummies_test.columns)"
   ]
  },
  {
   "cell_type": "code",
   "execution_count": null,
   "metadata": {},
   "outputs": [],
   "source": [
    "# check for unique values in 2019 df\n",
    "X_dummies_train[\"debt_settlement_flag_Y\"].unique()"
   ]
  },
  {
   "cell_type": "code",
   "execution_count": 5,
   "metadata": {},
   "outputs": [],
   "source": [
    "# match columns from training df to testing df\n",
    "X_dummies_test = X_dummies_test.reindex(columns=X_dummies_train.columns, fill_value=0)"
   ]
  },
  {
   "cell_type": "code",
   "execution_count": null,
   "metadata": {},
   "outputs": [],
   "source": [
    "X_dummies_test"
   ]
  },
  {
   "cell_type": "code",
   "execution_count": 6,
   "metadata": {},
   "outputs": [
    {
     "name": "stdout",
     "output_type": "stream",
     "text": [
      "Training Logistic Regression Score: 0.648440065681445\n",
      "Testing Logistic Regression Score: 0.5253083794130158\n"
     ]
    }
   ],
   "source": [
    "# Train the Logistic Regression model on the unscaled data and print the model score\n",
    "from sklearn.linear_model import LogisticRegression\n",
    "model = LogisticRegression(C=1.0, class_weight=None, dual=False, fit_intercept=True,\n",
    "                   intercept_scaling=1, l1_ratio=None, max_iter=100,\n",
    "                   multi_class='auto', n_jobs=None, penalty='l2',\n",
    "                   random_state=None, solver='lbfgs', tol=0.0001, verbose=0,\n",
    "                   warm_start=False)\n",
    "model.fit(X_dummies_train, y_label_train)\n",
    "print(f\"Training Logistic Regression Score: {model.score(X_dummies_train,y_label_train)}\")\n",
    "print(f\"Testing Logistic Regression Score: {model.score(X_dummies_test,y_label_test)}\")"
   ]
  },
  {
   "cell_type": "code",
   "execution_count": 7,
   "metadata": {},
   "outputs": [
    {
     "name": "stdout",
     "output_type": "stream",
     "text": [
      "Training RFC Score: 1.0\n",
      "Testing RFC Score: 0.6405784772437261\n"
     ]
    }
   ],
   "source": [
    "# Train a Random Forest Classifier model and print the model score\n",
    "clf = RandomForestClassifier(max_features=\"sqrt\",random_state=1).fit(X_dummies_train,y_label_train)\n",
    "print(f\"Training RFC Score: {clf.score(X_dummies_train,y_label_train)}\")\n",
    "print(f\"Testing RFC Score: {clf.score(X_dummies_test,y_label_test)}\")"
   ]
  },
  {
   "cell_type": "code",
   "execution_count": 8,
   "metadata": {},
   "outputs": [],
   "source": [
    "# Scale the data\n",
    "# Training data\n",
    "X_dummies_train_scaler = StandardScaler().fit(X_dummies_train)\n",
    "X_dummies_train_scaled = X_dummies_train_scaler.transform(X_dummies_train)\n",
    "\n",
    "# Testing data\n",
    "X_dummies_test_scaler = StandardScaler().fit(X_dummies_test)\n",
    "X_dummies_test_scaled = X_dummies_test_scaler.transform(X_dummies_test)\n"
   ]
  },
  {
   "cell_type": "code",
   "execution_count": 13,
   "metadata": {},
   "outputs": [
    {
     "name": "stdout",
     "output_type": "stream",
     "text": [
      "Scaled - Training Logistic Regression Score: 0.713136288998358\n",
      "Scaled - Testing Logistic Regression Score: 0.6703530412590387\n"
     ]
    }
   ],
   "source": [
    "# Train the Logistic Regression model on the scaled data and print the model score\n",
    "model.fit(X_dummies_train_scaled, y_label_train)\n",
    "print(f\"Scaled - Training Logistic Regression Score: {model.score(X_dummies_train_scaled,y_label_train)}\")\n",
    "print(f\"Scaled - Testing Logistic Regression Score: {model.score(X_dummies_test_scaled,y_label_test)}\")"
   ]
  },
  {
   "cell_type": "code",
   "execution_count": 14,
   "metadata": {},
   "outputs": [
    {
     "name": "stdout",
     "output_type": "stream",
     "text": [
      "Scaled - Training RFC Score: 1.0\n",
      "Scaled - Testing RFC Score: 0.5710336027222459\n"
     ]
    }
   ],
   "source": [
    "# Train a Random Forest Classifier model on the scaled data and print the model score\n",
    "clf = RandomForestClassifier(max_features=\"sqrt\",random_state=1).fit(X_dummies_train_scaled,y_label_train)\n",
    "print(f\"Scaled - Training RFC Score: {clf.score(X_dummies_train_scaled,y_label_train)}\")\n",
    "print(f\"Scaled - Testing RFC Score: {clf.score(X_dummies_test_scaled,y_label_test)}\")"
   ]
  },
  {
   "cell_type": "markdown",
   "metadata": {},
   "source": []
  }
 ],
 "metadata": {
  "kernelspec": {
   "display_name": "Python 3",
   "language": "python",
   "name": "python3"
  },
  "language_info": {
   "codemirror_mode": {
    "name": "ipython",
    "version": 3
   },
   "file_extension": ".py",
   "mimetype": "text/x-python",
   "name": "python",
   "nbconvert_exporter": "python",
   "pygments_lexer": "ipython3",
   "version": "3.8.8"
  }
 },
 "nbformat": 4,
 "nbformat_minor": 4
}
